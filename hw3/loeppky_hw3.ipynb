{
 "cells": [
  {
   "cell_type": "markdown",
   "id": "186cb726",
   "metadata": {},
   "source": [
    "# Homework 3\n",
    "\n",
    "## Andrew Loeppky\n",
    "\n",
    "## P509, Fall '21"
   ]
  },
  {
   "cell_type": "code",
   "execution_count": 1,
   "id": "197a2eb9",
   "metadata": {},
   "outputs": [],
   "source": [
    "import pandas as pd\n",
    "import numpy as np\n",
    "from matplotlib import pyplot as plt\n",
    "from scipy.stats import norm\n",
    "from scipy.special import perm\n",
    "\n",
    "from IPython.display import clear_output\n",
    "import random"
   ]
  },
  {
   "cell_type": "markdown",
   "id": "9e87ab92",
   "metadata": {},
   "source": [
    "### Question 1 \n",
    "\n",
    "Consider an (unnormalized) Cauchy distribution with mean a and width parameter $b$:\n",
    "\n",
    "$$\n",
    "f(x|a,b ) = \\left(1 + \\left(\\frac{x-a}{b}\\right)^2\\right)^{-1}\n",
    "$$\n",
    "\n",
    "In this problem you will use Monte Carlo simulation to explore ways of estimating the model parameters from a data sample drawn from this underlying distribution.\n",
    "\n",
    "**A.** Write a simulation that generates random numbers drawing from the above distribution. Briefly describe the method your routine uses. Show a plot of the output of your routine for 10000 simulated events, setting $a=0$ and $b=1$. Make the plot over the range -10 to 10, and superimpose a Cauchy distribution curve on top of the distribution to see if it agrees. (For the remainder of this problem you may take $a=0$ and $b=1$.)\n",
    "\n",
    "---"
   ]
  },
  {
   "cell_type": "markdown",
   "id": "b260d8f6",
   "metadata": {},
   "source": [
    "I chose a brute force accept/reject method, generating a uniform distribution of x values over a range large enough that events are sufficiently rare at the edges of the distribution.\n",
    "\n",
    "1) Generate uniform distributions on $x =rand[\\pm10^5]$ and $y=rand[0,1]$\n",
    "\n",
    "2) If y < x, accept the point. if not, reject it. This is done in large \"chunks\" to save computation time, and the final array is then truncated to the desired length."
   ]
  },
  {
   "cell_type": "code",
   "execution_count": 9,
   "id": "35080bf5",
   "metadata": {},
   "outputs": [],
   "source": [
    "def simulate_cauchy(xmin=-10., xmax=10., n_pts=1000, a=0, b=1, use_seed=False, show_plot=False):\n",
    "    \"\"\"\n",
    "    Generates a cauchy distribution described by\n",
    "    \n",
    "    $$\n",
    "    f(x|a,b ) = \\left(1 + \\left(\\frac{x-a}{b}\\right)^2\\right)^{-1}\n",
    "    $$\n",
    "    \n",
    "    Inputs:\n",
    "    \n",
    "        n_pts -- (int) number of points to generate\n",
    "        xmin  -- (float) left edge of x domain\n",
    "        xmax  -- (float) right edge of x domain\n",
    "        a, b  -- (float) mean and width params of cauchy distn\n",
    "        use_seed -- (bool) pin random number generator to seed\n",
    "        show_plot  -- (bool) whether to graphically show output or not\n",
    "    \n",
    "    Returns:\n",
    "    \n",
    "        Some cool plots and an array x of length n_pts, cauchy distributed\n",
    "    \"\"\"\n",
    "    # calculate the exact soln and initialize a \n",
    "    x_ext = np.linspace(xmin, xmax, 10000)\n",
    "    x_sim = np.array([])\n",
    "    y_sim = np.array([])\n",
    "    beta = 1000 # how much to stretch the envelope function \n",
    "    chunksize = 10000 * n_pts # how big of chunks to calculate at once\n",
    "\n",
    "    def do_cauchy(x, a=0, b=1):\n",
    "        \"\"\"\n",
    "        calculates cauchy distn of x, a, b\n",
    "        \"\"\"\n",
    "        y = (1 + ((x - a) / b) ** 2) ** -1\n",
    "        return y\n",
    "        \n",
    "    if use_seed:\n",
    "        random.seed(41)\n",
    "    def get_xy(ymin, ymax, chunksize=chunksize):\n",
    "        \"\"\"\n",
    "        outputs a random pair x, y, with x on \n",
    "        [-1e5, 1e5] and y on [ymin, ymax]\n",
    "        \"\"\"\n",
    "        x = np.random.uniform(-100000,100000, size=chunksize)\n",
    "        y = np.random.uniform(0,1, size=chunksize)\n",
    "        \n",
    "        return x, y\n",
    "\n",
    "    # generate a plot of analytical distn and random numbers\n",
    "    if show_plot:\n",
    "        fig, (ax1, ax2) = plt.subplots(1,2, figsize=(15,4))\n",
    "        #ax1.plot(x_ext, do_envelope(x_ext), color=\"k\", linestyle=\":\", label=\"Envelope\")\n",
    "        ax1.plot(x_ext, do_cauchy(x_ext), color='k', label=\"Cauchy\")\n",
    "        ax1.legend()\n",
    "        ax1.set_xlabel(\"x\")\n",
    "        ax1.set_xlim(xmin, xmax)\n",
    "        #ax1.set_ylim(0, 0.01) ####### take this out for the real version\n",
    "        ax1.set_title(\"Exact Solution and Simulated Points\")\n",
    "       \n",
    "        ax2.set_xlabel(\"x\")\n",
    "        ax2.set_xlim(xmin, xmax)\n",
    "        ax2.set_title(\"Histogram of Generated Values X\")\n",
    "\n",
    "    # do the sim, one \"chunk\" at a time\n",
    "    while len(x_sim) < n_pts:\n",
    "        x, y = get_xy(0,1)\n",
    "        if show_plot:\n",
    "            clear_output()\n",
    "            print(f\"Simulated {len(x_sim)}/{n_pts} points\")\n",
    "        \n",
    "        # multiply both sides by a large number to get better numerical precision\n",
    "        #large_number = 1e5\n",
    "        x_sim = np.append(x_sim, x[do_cauchy(x) >= y])\n",
    "        y_sim = np.append(y_sim, y[do_cauchy(x) >= y])\n",
    "        \n",
    "    # \"trim\" the output array to desired size        \n",
    "    x_sim = x_sim[:n_pts]\n",
    "    y_sim = y_sim[:n_pts]\n",
    "    \n",
    "    if show_plot:\n",
    "        ax1.scatter(x_sim, y_sim)\n",
    "        ax2.hist(x_sim[(x_sim > xmin) & (x_sim < xmax)], bins=30)\n",
    "        print(f\"Simulated {len(x_sim)}/{n_pts} points\")\n",
    "        \n",
    "    return x_sim"
   ]
  },
  {
   "cell_type": "code",
   "execution_count": 3,
   "id": "5b36374a",
   "metadata": {},
   "outputs": [
    {
     "name": "stdout",
     "output_type": "stream",
     "text": [
      "Simulated 9503/10000 points\n",
      "Simulated 10000/10000 points\n"
     ]
    },
    {
     "data": {
      "image/png": "[encoded data removed]",
      "text/plain": [
       "<Figure size 1080x288 with 2 Axes>"
      ]
     },
     "metadata": {
      "needs_background": "light"
     },
     "output_type": "display_data"
    }
   ],
   "source": [
    "# do what is asked in Q1a\n",
    "x = simulate_cauchy(n_pts=10000, show_plot=True)"
   ]
  },
  {
   "cell_type": "markdown",
   "id": "3d985412",
   "metadata": {},
   "source": [
    "**B.** An obvious estimator for the parameter $a$ is to calculate the mean of $N$ values. Suppose we draw 25 numbers from this distribution, and calculate their mean, which we'll denote by $x_{25}$. Simulate the distribution of $x_{25}$ for 10000 trials of this experiment, and plot the result "
   ]
  },
  {
   "cell_type": "code",
   "execution_count": 159,
   "id": "ecc79cec",
   "metadata": {},
   "outputs": [],
   "source": [
    "# draw 25 samples x and take their mean, 10000 times\n",
    "ntrials = 10000\n",
    "x25 = np.array([np.mean(simulate_cauchy(n_pts=25)) for i in range(ntrials)])"
   ]
  },
  {
   "cell_type": "code",
   "execution_count": 160,
   "id": "fd45dfa0",
   "metadata": {},
   "outputs": [
    {
     "name": "stdout",
     "output_type": "stream",
     "text": [
      "Var of x25: 2510.1185707444215\n"
     ]
    },
    {
     "data": {
      "image/png": "[encoded data removed]",
      "text/plain": [
       "<Figure size 432x288 with 1 Axes>"
      ]
     },
     "metadata": {
      "needs_background": "light"
     },
     "output_type": "display_data"
    }
   ],
   "source": [
    "# histogram of x25\n",
    "plt.hist(x25[(x25 > -10) & (x25 < 10)], bins=20)\n",
    "plt.title(f\"Estimating the Mean of a Cauchy Distribution, 25 samples x {ntrials} Trials\")\n",
    "plt.xlabel(\"Estimate for $a$\")\n",
    "plt.ylabel(\"Counts\");\n",
    "print(f\"Var of x25: {np.var(x25)}\")"
   ]
  },
  {
   "cell_type": "markdown",
   "id": "4fffb9c1",
   "metadata": {},
   "source": [
    "**C.** Redo part B, but this time we'll estimate parameter a by averaging 100 samples. How does the width of the distribution for $x_{100}$ compare to that for $x_{25}$?"
   ]
  },
  {
   "cell_type": "code",
   "execution_count": 245,
   "id": "f5a71418",
   "metadata": {},
   "outputs": [],
   "source": [
    "# draw 100 samples of x and take their mean, 10000 times\n",
    "x100 = np.array([np.mean(simulate_cauchy(n_pts=100)) for i in range(ntrials)])"
   ]
  },
  {
   "cell_type": "code",
   "execution_count": 246,
   "id": "02412ace",
   "metadata": {},
   "outputs": [
    {
     "name": "stdout",
     "output_type": "stream",
     "text": [
      "Var of x100: 1204.1621708662049\n"
     ]
    },
    {
     "data": {
      "image/png": "[encoded data removed]",
      "text/plain": [
       "<Figure size 432x288 with 1 Axes>"
      ]
     },
     "metadata": {
      "needs_background": "light"
     },
     "output_type": "display_data"
    }
   ],
   "source": [
    "# plot x100\n",
    "plt.hist(x100[(x100 > -10) & (x100 < 10)], bins=20)\n",
    "plt.title(f\"Estimating the Mean of a Cauchy Distribution, 100 samples x {ntrials} Trials\")\n",
    "plt.xlabel(\"Estimate for $a$\")\n",
    "plt.ylabel(\"Counts\")\n",
    "print(f\"Var of x100: {np.var(x100)}\")"
   ]
  },
  {
   "cell_type": "markdown",
   "id": "cfd6fca7",
   "metadata": {},
   "source": [
    "*The variances generated by my numerical simulation are effectively random numbers, different each time I run it. Cauchy distributions have infinite variance, so averages of Cauchy random variables won't converge*"
   ]
  },
  {
   "cell_type": "markdown",
   "id": "ef3dd00b",
   "metadata": {},
   "source": [
    "**D.** Develop a better estimator of $a$ (i.e. develop some function or algorithm of the 100 data points that yields a distribution for your estimate of parameter a with a smaller variance than $x_{100}$ does). Describe your method and show the simulated distribution of your new estimator. Is the method unbiased? Is it consistent?\n",
    "\n",
    "*Rather than taking the mean of $x_{100}$, let's instead take the median. Medians are more tolerant of outliers, and should do a better job of ignoring events near the edges where we are likely to see larger fluctuations due to the rarity of numbers being drawn there.*"
   ]
  },
  {
   "cell_type": "code",
   "execution_count": 158,
   "id": "541efe01",
   "metadata": {},
   "outputs": [
    {
     "name": "stdout",
     "output_type": "stream",
     "text": [
      "Var of xmed: 0.025373793721734924\n"
     ]
    },
    {
     "data": {
      "image/png": "[encoded data removed]",
      "text/plain": [
       "<Figure size 432x288 with 1 Axes>"
      ]
     },
     "metadata": {
      "needs_background": "light"
     },
     "output_type": "display_data"
    }
   ],
   "source": [
    "xmed = np.zeros(ntrials)\n",
    "for i in range(ntrials):\n",
    "    distn = simulate_cauchy(n_pts=100)\n",
    "    xmed[i]= np.median(distn)\n",
    "\n",
    "plt.hist(xmed)\n",
    "plt.title(f\"Estimating the Mean of a Cauchy Distribution, 100 samples x {ntrials} Trials\")\n",
    "plt.xlabel(\"Estimate for $a$\")\n",
    "plt.ylabel(\"Counts\")\n",
    "print(f\"Var of xmed: {np.var(xmed)}\")"
   ]
  },
  {
   "cell_type": "markdown",
   "id": "c47b0b3e",
   "metadata": {},
   "source": [
    "**Is my estimator unbiased?** *Yes. As long as I trust my RNG, the median has equal chance of over or underestimating the true value of $a$*\n",
    "\n",
    "**Is my estimator consistent?** *Run the simulation 5 times, increasing $N$ by a factor of 2 each time. A consistent estimator should converge on the true value $a=0$ with smaller standard deviations for large $N$*"
   ]
  },
  {
   "cell_type": "code",
   "execution_count": 10,
   "id": "57542d3a",
   "metadata": {},
   "outputs": [
    {
     "name": "stdout",
     "output_type": "stream",
     "text": [
      "N = 10\n",
      "Mean estimate of a:    0.11958098995237379\n",
      "Var of a estimate:     0.050617531287125074\n",
      "\n",
      "N = 20\n",
      "Mean estimate of a:    0.024440947309631155\n",
      "Var of a estimate:     0.17029224885810645\n",
      "\n",
      "N = 40\n",
      "Mean estimate of a:    0.04226794126334425\n",
      "Var of a estimate:     0.06122790994410758\n",
      "\n",
      "N = 80\n",
      "Mean estimate of a:    -0.03557821716149192\n",
      "Var of a estimate:     0.08837239624054938\n",
      "\n",
      "N = 160\n",
      "Mean estimate of a:    -0.0019238289368331608\n",
      "Var of a estimate:     0.126579318965653\n",
      "\n"
     ]
    }
   ],
   "source": [
    "for ntrials in np.array([10,20,40,80,160]):\n",
    "    xmed = np.zeros(ntrials)\n",
    "    print(f\"N = {ntrials}\")\n",
    "    for i in range(ntrials):\n",
    "        distn = simulate_cauchy(n_pts=25)\n",
    "        xmed[i]= np.median(distn)\n",
    "    print(f\"Mean estimate of a:    {np.mean(xmed)}\")\n",
    "    print(f\"Var of a estimate:     {np.var(xmed)}\\n\")"
   ]
  },
  {
   "cell_type": "markdown",
   "id": "f4342296",
   "metadata": {},
   "source": [
    "*My estimator is not **consistent** as per Barlow's definition. Changes in the variance of my estimate are only due to random fluctiations of the RNG. It is still a better estimator than the mean though.*"
   ]
  },
  {
   "cell_type": "markdown",
   "id": "43666fd1",
   "metadata": {},
   "source": [
    "**E.** Develop a useful estimator for $b$. Describe your method and show the simulated distribution of your new estimator. Is your estimator consistent? Is it unbiased? How efficient do you think it is?"
   ]
  },
  {
   "cell_type": "markdown",
   "id": "2e55d932",
   "metadata": {},
   "source": [
    "*Maximum of a cauchy occurs at $x-a = 0$, where $f(x|a,b)=1$. Calculate the value of b at full-width-half-max:*\n",
    "\n",
    "$$\n",
    "\\frac{1}{2} = \\left[1 + \\left(\\frac{x-a}{b}\\right)^2\\right]^{-1}\n",
    "$$\n",
    "\n",
    "$$\n",
    "\\left(\\frac{x-a}{b}\\right)^2 = 2 - 1\n",
    "$$\n",
    "\n",
    "$$\n",
    "\\pm (x - a) = b\n",
    "$$"
   ]
  },
  {
   "cell_type": "code",
   "execution_count": 155,
   "id": "637dbf73",
   "metadata": {},
   "outputs": [],
   "source": [
    "# first use my median estimator for a\n",
    "dist = simulate_cauchy(n_pts=10000)\n",
    "a = np.median(dist)"
   ]
  },
  {
   "cell_type": "code",
   "execution_count": 173,
   "id": "413d6611",
   "metadata": {},
   "outputs": [
    {
     "name": "stdout",
     "output_type": "stream",
     "text": [
      "Value of a from med:    -0.012725325635983609\n",
      "Value of b from FWHM:   0.8127253256359837\n"
     ]
    },
    {
     "data": {
      "text/plain": [
       "(0.0, 100.0)"
      ]
     },
     "execution_count": 173,
     "metadata": {},
     "output_type": "execute_result"
    },
    {
     "data": {
      "image/png": "[encoded data removed]",
      "text/plain": [
       "<Figure size 432x288 with 1 Axes>"
      ]
     },
     "metadata": {
      "needs_background": "light"
     },
     "output_type": "display_data"
    }
   ],
   "source": [
    "# bin the data at width 0.1 \n",
    "# (needs to be type=int so multiply by 10 to preserve resolution)\n",
    "dist_bin = (np.round(dist * 10)).astype(int)\n",
    "\n",
    "# take absolute value, folding the distn over the y axis\n",
    "dist_bin = np.abs(dist_bin)\n",
    "\n",
    "# count the number of occurences of each element\n",
    "counts = np.bincount(dist_bin)\n",
    "\n",
    "# find the maximum\n",
    "the_max = np.max(counts)\n",
    "\n",
    "# figure out where the distn is nearest to half the max\n",
    "x_FWHM = dist_bin[np.argmin((counts - the_max / 2))]\n",
    "\n",
    "# calculate b = x - a\n",
    "b =(x_FWHM / 10) - a\n",
    "print(f\"\"\"Value of a from med:    {a}\n",
    "Value of b from FWHM:   {b}\"\"\")\n",
    "\n",
    "# note: the automated histogram is doing slightly different things \n",
    "# than my binning algorithm, so the picture doesnt line up perfectly\n",
    "plt.hist(dist_bin[(dist_bin > -100) & (dist_bin < 100)], bins=100)\n",
    "plt.axvline(x_FWHM, color=\"r\")\n",
    "plt.axhline(the_max / 2, color=\"r\");\n",
    "plt.xlim(0,100)"
   ]
  },
  {
   "cell_type": "markdown",
   "id": "823f519b",
   "metadata": {},
   "source": [
    "**Is my estimator consistent?**\n",
    "\n",
    "*Yes. More data makes this a better estimator, because the data can be binned at higher resolution and still maintain a \"smooth\" histogram, which is required to accurately pinpoint FWHM*\n",
    "\n",
    "**Is my estimator unbaised?**\n",
    "\n",
    "*No. It consistently underestimates $b$*\n",
    "\n",
    "**How efficient do you think it is?**\n",
    "\n",
    "*Barlow defines the minimum variance bound -- the upper limit on the efficiency of an estimator:*\n",
    "\n",
    "$$\n",
    "V(\\hat{a}) \\ge \\frac{1}{\\langle(dlnL/da)^2\\rangle}\n",
    "$$\n",
    "\n",
    "*but states that it only applies to unbaised estimators. I cannot accurately estimate the efficiency of my $b$ estimator unless I can somehow remove the systematic error in it.* "
   ]
  },
  {
   "cell_type": "markdown",
   "id": "6bd58eaf",
   "metadata": {},
   "source": [
    "**F.** You should have seen in parts B and C that the distribution of the mean didn't get narrower when more points were averaged. Justify this analytically by deriving the probability distribution for the average of two Cauchy random variables."
   ]
  },
  {
   "cell_type": "markdown",
   "id": "7384277a",
   "metadata": {},
   "source": [
    "*Two variables are random and therefore independent, so thier mean will be:*\n",
    "\n",
    "$$\n",
    "\\langle x_1 + x_2 \\rangle = \\frac{\\langle x_1\\rangle + \\langle x_2\\rangle}{2}\n",
    "$$\n",
    "\n",
    "*and the variance:*\n",
    "\n",
    "$$\n",
    "\\sigma_{x_1 + x_2}^2 = \\sigma_{x_1}^2 + \\sigma_{x_2}^2\n",
    "$$\n",
    "\n",
    "*Each variable has infinite variance, so the sum of thier variances is also infinite$_\\square$*"
   ]
  },
  {
   "cell_type": "markdown",
   "id": "0038adb5",
   "metadata": {},
   "source": [
    " <div class=\"page-break\"></div>"
   ]
  },
  {
   "cell_type": "markdown",
   "id": "ca4a342a",
   "metadata": {},
   "source": [
    "### Question 2\n",
    "\n",
    "The standard “$\\Lambda \\text{CDM}$” cosmology states that the scale factor (“size”) for the universe is given by the expression:\n",
    "\n",
    "$$\n",
    "a(t) = \\left(\\Omega_m / \\Omega_\\Lambda\\right)^{\\frac{1}{3}} sinh^{\\frac{2}{3}}(t/t_\\Lambda)\n",
    "$$\n",
    "\n",
    "where\n",
    "\n",
    "$$\n",
    "t_\\Lambda \\equiv 2 / (3H_0\\sqrt{\\Omega_\\Lambda})\n",
    "$$\n",
    "\n",
    "\n",
    "If one sets $a(t)=1$ and solves for $t$, you get the current age of the universe. We are given the following measurements and constraints:\n",
    "\n",
    "$$\n",
    "H_0 = 67.27\\pm 0.60 \\text{ km/s per megaparsec}\n",
    "$$\n",
    "\n",
    "$$\n",
    "\\Omega_m = 0.3166 \\pm 0.0084\n",
    "$$\n",
    "\n",
    "$$\n",
    "\\Omega_m \\cdot(H_0)^3 = 96433 \\pm 290\n",
    "$$\n",
    "\n",
    "$$\n",
    "\\Omega_m + \\Omega_\\Lambda = 1 \\text{  (theoretical constraint)}\n",
    "$$\n",
    "\n",
    "Use these values to estimate the correlation between the uncertainties on $H_0$ and $\\Omega_m$, and then use the above formulas and the error propagation equation to calculate the age of the universe and the uncertainty on its age.\n",
    "\n",
    "---"
   ]
  },
  {
   "cell_type": "markdown",
   "id": "36b8f39e",
   "metadata": {},
   "source": [
    "First, do some algebra for $t$ with $a(t)=1$:\n",
    "\n",
    "$$\n",
    "t = sinh^{-1}\\left(\\left[\\frac{\\Omega_\\Lambda}{\\Omega_m}\\right]^{1/2}\\right)\\cdot\\left(\\frac{2}{3H_0\\sqrt{\\Omega_\\Lambda}}\\right)\n",
    "$$\n",
    "\n",
    "Substitute $\\Omega_{\\Lambda} = 1 - \\Omega_m$:\n",
    "\n",
    "$$\n",
    "t = sinh^{-1}\\left(\\left[\\frac{1 - \\Omega_m}{\\Omega_m}\\right]^{1/2}\\right)\\cdot\\left(\\frac{2}{3H_0\\sqrt{1 - \\Omega_m}}\\right)\\tag{1}\n",
    "$$\n",
    "\n",
    "Unit conversion: $t \\propto H_0^{-1}$, which has units of $s\\cdot megaparsec/km$, or\n",
    "\n",
    "$$\n",
    "[t] =  \\left[\\frac{s}{km}\\cdot3.806e^{19}km\\right] \\approx 978.5 \\text{ billion years}\n",
    "$$\n",
    "\n",
    "Error propagation equation for $f(\\Omega_m, H_0) = \\Omega_m\\cdot (H_0)^3$:\n",
    "\n",
    "$$\n",
    "\\sigma^2_f = \\left(\\frac{df}{d\\Omega_m}\\right)^2\\sigma_{\\Omega_m}^2 + \\left(\\frac{df}{dH_0}\\right)^2\\sigma_{H_0}^2 + 2\\left(\\frac{df}{d\\Omega_m}\\right)\\left(\\frac{df}{dH_0}\\right)\\rho\\sigma_{H_0}\\sigma_{\\Omega_m}\\tag{2}\n",
    "$$\n",
    "\n",
    "Do the derivatives:\n",
    "\n",
    "$$\n",
    "\\frac{df}{d\\Omega_m} = H_0^3\\tag{3}\n",
    "$$\n",
    "\n",
    "$$\n",
    "\\frac{df}{dH_0} = 3\\Omega_m H_0^2\\tag{4}\n",
    "$$\n",
    "\n",
    "Plug (3) and (4) into (2) and solve for $\\rho$:\n",
    "\n",
    "$$\n",
    "\\rho = \\frac{\\sigma_f^2 - H_0^6\\sigma_{\\Omega_m}^2 - 9\\Omega_m^2 H_0^4\\sigma_{H_0}^2}{6\\Omega_m H_0^5\\sigma_{H_0}\\sigma_{\\Omega_m}}\\tag{5}\n",
    "$$\n",
    "\n",
    "Code it up and solve:"
   ]
  },
  {
   "cell_type": "code",
   "execution_count": 64,
   "id": "cd6ed6ab",
   "metadata": {},
   "outputs": [
    {
     "name": "stdout",
     "output_type": "stream",
     "text": [
      "rho = -0.9936592506015546\n"
     ]
    }
   ],
   "source": [
    "# define consts from question\n",
    "sigma_f = 290 \n",
    "sigma_H0 = 0.60  # km/s/megaparsec\n",
    "sigma_Om = 0.0084\n",
    "\n",
    "H0 = 67.27\n",
    "omega_m = 0.3166\n",
    "\n",
    "def to_years(tx):\n",
    "    \"\"\"\n",
    "    convert from s/km/megaparsec to years\n",
    "    \"\"\"\n",
    "    years = 978.5 * tx * 1e9\n",
    "    \n",
    "    return(years)\n",
    "\n",
    "# solve for rho (eq 5)\n",
    "num = sigma_f ** 2 - H0 ** 6 * sigma_Om ** 2 - 9 * omega_m ** 2 * H0 ** 4 * sigma_H0 ** 2\n",
    "denom = 6 * H0 ** 5  * omega_m * sigma_H0 * sigma_Om\n",
    "rho = num / denom\n",
    "\n",
    "print(f\"rho = {rho}\")"
   ]
  },
  {
   "cell_type": "markdown",
   "id": "23ed527e",
   "metadata": {},
   "source": [
    "Do the derivatives of (1) wrt $\\Omega_m$ and $H_0$:\n",
    "\n",
    "$$\n",
    "\\frac{dt}{d\\Omega_m} = \\frac{\\Omega_m + \\sqrt{1-\\Omega_m}\\Omega_msinh^{-1}\\left(\\sqrt{\\frac{1}{\\Omega_m}-1}\\right)-1}{3H_0(\\Omega_m-1)^2\\Omega_m}\\tag{6}\n",
    "$$\n",
    "\n",
    "$$\n",
    "\\frac{dt}{dH_0} = -\\frac{2sinh^{-1}\\left(\\sqrt{\\frac{1}{\\Omega_m}-1}\\right)}{3\\sqrt{1 - \\Omega_m}H_0^2}\\tag{7}\n",
    "$$"
   ]
  },
  {
   "cell_type": "code",
   "execution_count": 65,
   "id": "50d08583",
   "metadata": {},
   "outputs": [],
   "source": [
    "# eqn 6\n",
    "num = omega_m + (1 - omega_m) ** 0.5 * omega_m * np.arcsinh((1 / omega_m - 1) ** 0.5) - 1\n",
    "denom = 3 * H0 * (omega_m - 1) ** 2 * omega_m\n",
    "dtdom = num / denom\n",
    "\n",
    "# eqn 7\n",
    "num = - 2 * np.arcsinh((1 / omega_m - 1) ** 0.5)\n",
    "denom = 3 * (1 - omega_m) * H0 ** 2\n",
    "dtdH0 = num / denom"
   ]
  },
  {
   "cell_type": "markdown",
   "id": "afa5f123",
   "metadata": {},
   "source": [
    "Write out the matrix in as in Barlow p60:\n",
    "\n",
    "$$\n",
    "V_t = \\left(\\frac{dt}{d\\Omega_m}, \\frac{dt}{dH_0} \\right)\n",
    "\\begin{pmatrix}\n",
    "\\sigma_{\\Omega_m}^2 & \\rho\\sigma_{\\Omega_m}\\sigma_{H_0} \\\\\n",
    "\\rho\\sigma_{\\Omega_m}\\sigma_{H_0} & \\sigma_{H_0}^2\n",
    "\\end{pmatrix}\n",
    "\\begin{pmatrix}\n",
    "\\frac{dt}{d\\Omega_m}  \\\\\n",
    "\\frac{dt}{dH_0}\n",
    "\\end{pmatrix}\\tag{9}\n",
    "$$"
   ]
  },
  {
   "cell_type": "code",
   "execution_count": 70,
   "id": "1cca7200",
   "metadata": {},
   "outputs": [
    {
     "name": "stdout",
     "output_type": "stream",
     "text": [
      "The age of the universe is 13.813 billion +- 2333 years\n"
     ]
    }
   ],
   "source": [
    "# derivative vectors, row and column\n",
    "deriv_row = np.array([dtdom, dtdH0])\n",
    "deriv_col = deriv_row.reshape(2,1)\n",
    "\n",
    "# build the matrix\n",
    "coeff_mat = np.array([[(sigma_Om ** 2), rho * sigma_Om * sigma_H0],\n",
    "                      [rho * sigma_Om * sigma_H0, (sigma_H0 ** 2)]])\n",
    "\n",
    "# calculate the total error (eqn 9)\n",
    "Vt = (deriv_row @ coeff_mat @ deriv_col)[0]\n",
    "\n",
    "# finally, how old is the universe? (eqn 1)\n",
    "t = np.arcsinh(((1 - omega_m) / omega_m) ** 0.5) * (2 / (3 * H0 * (1 - omega_m) ** 0.5))\n",
    "\n",
    "t = to_years(t) / 1e9\n",
    "Vt = to_years(Vt)\n",
    "\n",
    "print(f\"The age of the universe is {round(t,3)} billion +- {round(Vt)} years\")"
   ]
  },
  {
   "cell_type": "markdown",
   "id": "8c7944e1",
   "metadata": {},
   "source": [
    "Or use the error propagation formula:\n",
    "\n",
    "$$\n",
    "\\sigma_t^2 = \\left(\\frac{dt}{d\\Omega_m}\\right)^2\\sigma_{\\Omega_m}^2 + \\left(\\frac{dt}{dH_0}\\right)^2\\sigma_{H_0}^2 + 2 \\left(\\frac{dt}{d\\Omega_m}\\right)\\left(\\frac{dt}{dH_0}\\right)\\rho\\sigma_{\\Omega_m}\\sigma_{H_0}\n",
    "$$"
   ]
  },
  {
   "cell_type": "code",
   "execution_count": 71,
   "id": "4b108de9",
   "metadata": {},
   "outputs": [
    {
     "name": "stdout",
     "output_type": "stream",
     "text": [
      "The age of the universe is 13.813 billion +- 2333 years\n"
     ]
    }
   ],
   "source": [
    "Vt = ((dtdom ** 2 * sigma_Om ** 2) \n",
    "      + (dtdH0 ** 2 * sigma_H0 ** 2)\n",
    "      + (2 * rho * dtdom * dtdH0 * sigma_Om * sigma_H0)) \n",
    "\n",
    "Vt = to_years(Vt)\n",
    "print(f\"The age of the universe is {round(t,3)} billion +- {round(Vt)} years\")"
   ]
  },
  {
   "cell_type": "markdown",
   "id": "1aac8191",
   "metadata": {},
   "source": [
    " <div class=\"page-break\"></div>"
   ]
  },
  {
   "cell_type": "markdown",
   "id": "e71cd3bf",
   "metadata": {},
   "source": [
    "## Question 3\n",
    "\n",
    "This is a parameter estimation problem from the world of cosmology.\n",
    "\n",
    "**A.** Some telescope measures the luminosity of a series of Type Ia supernova at various redshifts. The redshift $z$ is measured with negligible uncertainty. The distance $D$ to the supernova (in arbitrary units) depends on redshift according to:\n",
    "\n",
    "$$\n",
    "D = 1/H_0 \\cdot (z + 0.5\\cdot z^2\\cdot (1-q_0))\n",
    "$$\n",
    "\n",
    "Here, $H_0$ is Hubble's constant in appropriate units. The parameter $q_0$ describes the acceleration or deceleration of the universe's expansion, and depends on the densities of matter and dark energy in the universe according to:\n",
    "\n",
    "$$\n",
    "q0 = \\Omega_M/2 - \\Omega_\\Lambda\n",
    "$$\n",
    "\n",
    "Assume henceforth that $\\Omega_M + \\Omega_\\Lambda = 1$. Also, all $\\Omega$ parameters must be non-negative, since they are energy densities.\n",
    "\n",
    "The apparent luminosity of the supernova is given by $L=L_0/D^2$, where $L_0$ is its intrinsic brightness. The astronomical magnitude of each supernova is given by:\n",
    "\n",
    "$$\n",
    "m = -2.5\\cdot log_{10}(L)\n",
    "$$\n",
    "\n",
    "From studies of nearby supernovae, the random scatter in the magnitude m of a Type Ia supernova is $\\pm$ 0.1, presumably due to some intrinsic random variation in the intrinsic brightness.\n",
    "\n",
    "Attached is a file giving the measured $z$ and $m$ values for 100 Type Ia supernovae. Determine the best-fit and \"1 sigma\" uncertainty for $\\Omega_\\Lambda$ from this data."
   ]
  },
  {
   "cell_type": "code",
   "execution_count": null,
   "id": "1149a133",
   "metadata": {},
   "outputs": [],
   "source": [
    "zm_dat = pd.read_csv(\"data_hw3.txt\", sep=\"  \", engine='python')"
   ]
  },
  {
   "cell_type": "markdown",
   "id": "0b108cf6",
   "metadata": {},
   "source": [
    "**B.** A possible systematic uncertainty in this measurement is the possibility that the intrinsic luminosity of supernovae may evolve systematically with redshift. Suppose therefore that:\n",
    "\n",
    "$$\n",
    "L_0(z) = L_0\\cdot (1+a\\cdot z)\n",
    "$$\n",
    "\n",
    "Theoretical models indicate that $a=0 \\pm 0.2$. Incorporating this as a new systematic to the calculation in Part A, calculate the total uncertainty on $\\Omega_\\Lambda$."
   ]
  },
  {
   "cell_type": "markdown",
   "id": "7cec0e77",
   "metadata": {},
   "source": [
    " <div class=\"page-break\"></div>"
   ]
  },
  {
   "cell_type": "markdown",
   "id": "5dd140b4",
   "metadata": {},
   "source": [
    "## Question 4\n",
    "\n",
    "Magnesium has three stable isotopes with atomic weights of 24, 25, and 26. You are given one mole of enriched magnesium. The block weighs 25.2 grams. You do not know the fractions of Mg-24, Mg-25, and Mg-26 in the block, only the total mass.\n",
    "\n",
    "**A.** Let $p_1, p_2$, and $p_3$ be the fractions of Mg-24, Mg-25, and Mg-26 atoms in your sample. Obviously $p_1+p_2+p_3=1$. You also have the constraint that the total mass is 25.2g. Use maximum entropy principles to derive the joint probability distribution $P(p_1,p_2)$ that has the largest entropy given the constraints. (Hint: assume that the measure function $m(x)=$ constant when calculating the entropy of this continuous distribution---see the formula for the entropy of a continuous probability distribution in Gregory's book. Also, think carefully about the allowed ranges for each variable. The PDF won't depend upon $p_3$ because $p_1+p_2+p_3=1$ determines $p_3$.)\n",
    "\n",
    "---"
   ]
  },
  {
   "cell_type": "markdown",
   "id": "3ad90fe2",
   "metadata": {},
   "source": [
    "We can write the probability in terms of the number of each atom, and derive a system of 2 equations and 3 unknowns:\n",
    "\n",
    "$$\n",
    "p_i = \\frac{N_i}{N_A}\n",
    "$$\n",
    "\n",
    "$$\n",
    "N_{24} + N_{25} + N_{26} = N_A \n",
    "$$\n",
    "\n",
    "Where $N_A$ is Avagadro's number. Solve for $N_{25}$ via substitution:\n",
    "\n",
    "$$\n",
    "24N_{24} + 25N_{25} + 26(N_A - N_{24} - N_{25}) = 25.2\\cdot N_A \n",
    "$$\n",
    "\n",
    "$$\n",
    "(24 - 26)N_{24} + (25 - 26)N_{25} = (25.2 - 26)N_A\n",
    "$$\n",
    "\n",
    "$$\n",
    "N_{25} = 0.8N_A - 2N_{24}\n",
    "$$\n",
    "\n",
    "$$\n",
    "N_{26} = 0.2N_A + N_{24}\n",
    "$$\n",
    "\n",
    "Convert constraints back to probabilities, and include another constraint that all probabilities must be $\\ge0$ and $\\le 1$\n",
    "\n",
    "$$\n",
    "p_{25} = 0.8 - 2p_{24}\\tag{1}\n",
    "$$\n",
    "\n",
    "$$\n",
    "p_{26} = 0.2 + p_{24}\\tag{2}\n",
    "$$\n",
    "\n",
    "\n",
    "So any choice of $p_{24}$ completely determines $p_{25}$ and $p_{26}$. Where is the range of validity for $p_{24}$?"
   ]
  },
  {
   "cell_type": "code",
   "execution_count": 72,
   "id": "7d61af92",
   "metadata": {},
   "outputs": [
    {
     "data": {
      "image/png": "[encoded data removed]",
      "text/plain": [
       "<Figure size 432x288 with 1 Axes>"
      ]
     },
     "metadata": {
      "needs_background": "light"
     },
     "output_type": "display_data"
    }
   ],
   "source": [
    "# find the range of validity for p24\n",
    "p24 = np.linspace(0,1,1000)\n",
    "p25 = 0.8 - 2 * p24\n",
    "p26 = 0.2 + p24\n",
    "\n",
    "# plot\n",
    "plt.plot(p24, p24, label=\"$p_{24}$\")\n",
    "plt.plot(p24, p25, label=\"$p_{25}$\")\n",
    "plt.plot(p24, p26, label=\"$p_{26}$\")\n",
    "plt.legend()\n",
    "plt.xlabel(\"$p_{24}$\")\n",
    "plt.ylabel(\"$p_i$\")\n",
    "plt.fill_betweenx((0,1),0.4,1, color=\"r\", alpha=0.4)\n",
    "plt.ylim(0,1);"
   ]
  },
  {
   "cell_type": "markdown",
   "id": "40b479ea",
   "metadata": {},
   "source": [
    "From the plot, we see that valid choices of $p_{24}$ span from 0 to $0.4$. Above this, we get un-physical values of $p_{25}$. Now write out the entropy of the system $P(p_i)$ as in the lecture slides, with the constraint that $\\sum_P P(p) = 1$:\n",
    "\n",
    "$$\n",
    "dS = \\lambda dC = \\sum(-ln(P_i) - 1 - \\lambda)dP_i = 0\n",
    "$$\n",
    "\n",
    "which produces:\n",
    "\n",
    "$$\n",
    "P = e^{-(1 + \\lambda)}\n",
    "$$\n",
    "\n",
    "A uniform prior in $P(p_{24},p_{25})$."
   ]
  },
  {
   "cell_type": "markdown",
   "id": "7adc9b8d",
   "metadata": {},
   "source": [
    "**B.** In a mass spectrometer we measure the weights of 20 atoms from the sample. We get these numbers:\n",
    "\n",
    "Mg-24: 12\n",
    "\n",
    "Mg-25: 3\n",
    "\n",
    "Mg-26: 5\n",
    "\n",
    "Using your maximum entropy PDF from part A as your prior, derive the posterior PDF for the parameter $p_1$, given this data (marginalizing over other parameters)."
   ]
  },
  {
   "cell_type": "markdown",
   "id": "53c7b87d",
   "metadata": {},
   "source": [
    "The likelihood of these measurements is given by:\n",
    "\n",
    "$$\n",
    "L = p_{24}^{12}\\cdot p_{25}^3\\cdot p_{26}^5\n",
    "$$\n",
    "\n",
    "With a flat prior, $P(p) \\propto L$ Marginalize over $p_{25}$ and $p_{26}$\n",
    "\n",
    "$$\n",
    "P(p_{24}) = \\iint p_{24}^{12}\\cdot p_{25}^3\\cdot p_{26}^5 dp_{26}dp_{25}\n",
    "$$\n",
    "\n",
    "$$\n",
    "P(p_{24}) = p_{24}\\frac{p_{25}^4}{4}\\frac{p_{26}^6}{6}\n",
    "$$\n",
    "\n",
    "\n",
    "re-cast in terms of $p_{24}$ using equations (1) and (2):\n",
    "\n",
    "$$\n",
    "L = \\frac{1}{24}p_{24}^{12} \\cdot (0.8 - 2p_{24})^4 \\cdot (0.2 + p_{24})^6\n",
    "$$\n",
    "\n",
    "Compute the normalization term and plot:"
   ]
  },
  {
   "cell_type": "code",
   "execution_count": 236,
   "id": "7838fe6b",
   "metadata": {},
   "outputs": [
    {
     "data": {
      "image/png": "[encoded data removed]",
      "text/plain": [
       "<Figure size 432x288 with 1 Axes>"
      ]
     },
     "metadata": {
      "needs_background": "light"
     },
     "output_type": "display_data"
    }
   ],
   "source": [
    "step = 0.001\n",
    "p24 = np.arange(0,0.4,step)\n",
    "\n",
    "L24 = (p24 ** 12 * (0.8 - 2 * p24) ** 4 * (0.2 + p24) ** 6) / 24 \n",
    "\n",
    "norm = np.sum(L24) * step\n",
    "P24 = L24 / norm\n",
    "\n",
    "plt.plot(p24, P24)\n",
    "plt.xlabel(\"$p_{24}$\")\n",
    "plt.ylabel(\"$P(p_{24})$\");"
   ]
  },
  {
   "cell_type": "markdown",
   "id": "48a465b8",
   "metadata": {},
   "source": [
    "**C.** If the data were instead\n",
    "\n",
    "Mg-24: 12\n",
    "\n",
    "Mg-25: 7\n",
    "\n",
    "Mg-26: 1\n",
    "\n",
    "What do you get the posterior distribution for $p_1$? Interpret your answer---that is, if you get the same result as in B, argue why this makes sense. If you get a different result, explain why the differing amounts of Mg-25 and Mg-26 in your data sample change your inference about Mg-24."
   ]
  },
  {
   "cell_type": "code",
   "execution_count": 243,
   "id": "395b805e",
   "metadata": {},
   "outputs": [
    {
     "data": {
      "image/png": "[encoded data removed]",
      "text/plain": [
       "<Figure size 432x288 with 1 Axes>"
      ]
     },
     "metadata": {
      "needs_background": "light"
     },
     "output_type": "display_data"
    }
   ],
   "source": [
    "# repeat the same analysis\n",
    "L2 = p24 ** 12 * (0.8 - 2 * p24) ** 8 * (0.2 + p24) ** 2 / 16\n",
    "norm = sum(L2) * step\n",
    "P24_2 = L2 / norm\n",
    "\n",
    "plt.plot(p24, P24, label=\"$P$\")\n",
    "plt.plot(p24, P24_2, label=\"$P_2$\")\n",
    "plt.legend()\n",
    "plt.xlabel(\"$p_{24}$\")\n",
    "plt.ylabel(\"$P(p_{24})$\");"
   ]
  },
  {
   "cell_type": "markdown",
   "id": "8afa6303",
   "metadata": {},
   "source": [
    "*The dimensions of the problem are such that any measurement of one of the species completely determines the other two. This means that measurements of $p_2$ and $p_3$ are effectively repeated measurements of $p_1$ (see eq(1) and eq(2) above).*"
   ]
  },
  {
   "cell_type": "markdown",
   "id": "4596284f",
   "metadata": {},
   "source": [
    " <div class=\"page-break\"></div>"
   ]
  },
  {
   "cell_type": "markdown",
   "id": "98062e94",
   "metadata": {},
   "source": [
    "### Question 5\n",
    "\n",
    "A Jeffreys' prior is a method for assigning a non-informative prior that is designed to be invariant under choice of parametrization. Jeffreys proposed the following prior:\n",
    "\n",
    "$$\n",
    "g(\\Theta) \\propto \\sqrt{I(\\Theta)}\n",
    "$$\n",
    "\n",
    "where $I(\\Theta)$ is the Fisher information, which is related to the likelihood function $L(x|\\Theta)$ by:\n",
    "\n",
    "$$\n",
    "I(\\Theta) = \\langle\\left[\\frac{\\partial }{\\partial\\Theta}lnL(x|\\Theta)\\right]^2\\rangle\n",
    "$$\n",
    "\n",
    "Here the angle brackets mean to take the average over outcomes, with $\\Theta$ taken to be fixed inside the integral:\n",
    "\n",
    "$$\n",
    "I(\\Theta) = \\int dx \\cdot L(x|\\Theta)\\left[\\frac{\\partial }{\\partial\\Theta}lnL(x|\\Theta)\\right]^2\n",
    "$$\n",
    "\n",
    "**A.** Consider a measurement in which we flip a single coin once, and want to estimate the probability $p$ for the coin coming up heads. Derive the Jeffreys prior $g(p)$ in this case.\n",
    "\n",
    "---"
   ]
  },
  {
   "cell_type": "markdown",
   "id": "cabdd2a1",
   "metadata": {},
   "source": [
    "The likelihood function for a coin flip is a binomial for $N$ flips, $n$ heads, and probability $p$ of heads, so we write:\n",
    "\n",
    "$$\n",
    "L(n|p) = p^n(1-p)^{N-n}\\frac{N!}{n!(N-n)!}\n",
    "$$\n",
    "\n",
    "$$\n",
    "ln(L(n|p) = n\\cdot ln(p) + (N-n)ln(1-p) + ln\\left(\\frac{N!}{n!(N-n)!}\\right)\n",
    "$$\n",
    "\n",
    "$$\n",
    "\\frac{dln(L)}{dp} = \\frac{n}{p} - \\frac{N-n}{1-p}\n",
    "$$\n",
    "\n",
    "Replace the integral with a sum of $n$ over integers $0..N$. The Fisher Information is then given by:\n",
    "\n",
    "$$\n",
    "I(p) = \\sum_{n=0}^N \\left(p^n(1-p)^{N-n}\\frac{N!}{n!(N-n)!}\\right)\\cdot\\left[\\frac{n}{p} - \\frac{N-n}{1-p}\\right]^2\n",
    "$$\n",
    "\n",
    "For a single coin flip ($N=1$), this simplifies to:\n",
    "\n"
   ]
  },
  {
   "cell_type": "markdown",
   "id": "d1874d43",
   "metadata": {},
   "source": [
    "$$\n",
    "I(p) = \\frac{1}{p} + \\frac{1}{1 - p}\n",
    "$$\n",
    "\n",
    "$$\n",
    "\\boxed{g(p) \\propto \\left[\\frac{1}{p} + \\frac{1}{1 - p}\\right]^{1/2}}\n",
    "$$"
   ]
  },
  {
   "cell_type": "code",
   "execution_count": 11,
   "id": "348bb0d4",
   "metadata": {},
   "outputs": [
    {
     "data": {
      "image/png": "[encoded data removed]",
      "text/plain": [
       "<Figure size 432x288 with 1 Axes>"
      ]
     },
     "metadata": {
      "needs_background": "light"
     },
     "output_type": "display_data"
    }
   ],
   "source": [
    "# plot the prior gp\n",
    "p = np.linspace(1e-5,0.99999,1000)\n",
    "gp = (1 / p + 1 / (1-p)) ** 0.5\n",
    "plt.plot(p, gp, \"k\")\n",
    "plt.xlabel(\"p\")\n",
    "plt.ylabel(\"g(p)\");"
   ]
  },
  {
   "cell_type": "markdown",
   "id": "d560e81a",
   "metadata": {},
   "source": [
    "*This makes sense. A single coin flip is going to heavily bias our belief about our coin to either $p(h)=1$ or $p(h)=0$, as 100\\% of our information will go one way or the other (assuming we know nothing else about the nature of coins).*"
   ]
  },
  {
   "cell_type": "markdown",
   "id": "339fb54c",
   "metadata": {},
   "source": [
    "**B.** Suppose that you start with this prior, then flip the coin three times, yielding three heads. What is the probability that $p<0.5$?\n",
    "\n",
    "Likelihood function for 3 heads in 3 flips:\n",
    "\n",
    "\n",
    "$$\n",
    "L(3|p) = p^3(1-p)^{3-3}\\frac{3!}{3!(3-3)!} = p^3\n",
    "$$\n",
    "\n",
    "Write out Bayes' theorem:\n",
    "\n",
    "$$\n",
    "P(p) = \\frac{g(p)p^3}{\\int^1_0g(p)p^3dp} = \\frac{16}{5\\pi}\\cdot g(p)p^3\n",
    "$$\n",
    "\n",
    "Integrate from 0 to 0.5:\n",
    "\n",
    "$$\n",
    "P(0 < p < 0.5) = \\int_0^{0.5} \\frac{16}{5\\pi}\\cdot g(p)p^3 dp = \\boxed{0.033}\n",
    "$$"
   ]
  },
  {
   "cell_type": "markdown",
   "id": "3edc6076",
   "metadata": {},
   "source": [
    "**C.** Suppose that some model relates $p$ to another parameter $\\psi$ according to $p=\\psi^4$. Derive the Jeffreys prior for $\\psi$, starting with the likelihood for a single coin flip expressed as a function of $\\psi$."
   ]
  },
  {
   "cell_type": "markdown",
   "id": "ea38bad9",
   "metadata": {},
   "source": [
    "Substitute:\n",
    "\n",
    "$$\n",
    "p = \\psi^4\n",
    "$$\n",
    "\n",
    "Calculate likelihood:\n",
    "\n",
    "$$\n",
    "L(n|\\psi) = \\psi^{4n}(1 - \\psi^4)^{N-n}\\frac{N!}{n!(N-n)!}\n",
    "$$\n",
    "\n",
    "Take the log:\n",
    "\n",
    "$$\n",
    "ln(L(n|\\psi) = 4nln(\\psi) + (N-n)ln(1-\\psi^4) + ln\\left(\\frac{N!}{n!(N-n)!}\\right)\n",
    "$$\n",
    "\n",
    "Differentiate wrt $\\psi$:\n",
    "\n",
    "$$\n",
    "\\frac{dln(L)}{d\\psi} = \\frac{4n}{\\psi} - \\frac{(N-n)}{(1-\\psi^4)}4\\psi^3\n",
    "$$\n",
    "\n",
    "Fisher information:\n",
    "\n",
    "$$\n",
    "I(\\psi) = \\sum^N_{n=0}\\psi^{4n}(1 - \\psi^4)^{N-n}\\frac{N!}{n!(N-n)!}\\left[\\frac{4n}{\\psi} - \\frac{(N-n)}{(1-\\psi^4)}4\\psi^3\\right]^2\n",
    "$$"
   ]
  },
  {
   "cell_type": "markdown",
   "id": "4c68a6c6",
   "metadata": {},
   "source": [
    "$$\n",
    "I(\\psi) = (1-\\psi^4)\\left[\\frac{4\\psi^3}{1-\\psi^4}\\right]^2 + \\psi^4\\left[\\frac{4}{\\psi}\\right]^2\n",
    "$$\n",
    "\n",
    "$$\n",
    "= 16\\left(\\frac{\\psi^6}{1-\\psi^4} + \\psi^2\\right)\\frac{\\psi^{-6}}{\\psi^{-6}}\n",
    "$$\n",
    "\n",
    "$$\n",
    "I(\\psi) = 16\\psi^6\\left(\\frac{1}{1-\\psi^4} + \\frac{1}{\\psi^4}\\right)\n",
    "$$\n",
    "\n",
    "so the Jeffreys prior for $\\psi$ is\n",
    "\n",
    "$$\n",
    "\\boxed{g(\\psi) \\propto 4\\psi^3\\left[\\frac{1}{1-\\psi^4} + \\frac{1}{\\psi^4}\\right]^{1/2}}\n",
    "$$"
   ]
  },
  {
   "cell_type": "markdown",
   "id": "4445e449",
   "metadata": {},
   "source": [
    "**D.** Demonstrate explicitly that if you take the Jeffreys prior for $\\psi$ from Part C and do a change of variables to $p$, you get back the Jeffreys prior for $p$ that you found in part A. This will confirm that Jeffreys' procedure for generating priors encodes the same information for both of these parametrizations.\n",
    "\n",
    "$$\n",
    "p = \\psi^4\n",
    "$$\n",
    "\n",
    "$$\n",
    "f(p) = f(\\psi)\\frac{dp}{d\\psi}\n",
    "$$\n",
    "\n",
    "$$\n",
    "\\frac{dp}{d\\psi} = 4\\psi^3\n",
    "$$\n",
    "\n",
    "$$\n",
    "f(p) = 4\\psi^3f(\\psi)\n",
    "$$\n",
    "\n",
    "$$\n",
    "\\left[\\frac{1}{p} + \\frac{1}{1 - p}\\right]^{1/2} = 4\\psi^3\\left[\\frac{1}{1-\\psi^4} + \\frac{1}{\\psi^4}\\right]^{1/2}_\\square\n",
    "$$"
   ]
  },
  {
   "cell_type": "markdown",
   "id": "a53d6840",
   "metadata": {},
   "source": [
    "**E.** Finally, show that if you started with a uniform prior for $p$ and a uniform prior for $\\psi$, then these priors are actually different after converting from one parametrization to another with a change of variables. Thus a uniform prior is not a Jeffreys prior for this problem."
   ]
  },
  {
   "cell_type": "markdown",
   "id": "07fa18ef",
   "metadata": {},
   "source": [
    "Uniform prior on [0,1] = 1, so write:\n",
    "\n",
    "$$\n",
    "g(p) = 1\n",
    "$$\n",
    "\n",
    "$$\n",
    "g(\\psi) = 1\n",
    "$$\n",
    "\n",
    "Set them equal, do the change of variables and prove by contradiction:\n",
    "\n",
    "$$\n",
    "g(p) = g(\\psi)\\frac{dp}{d\\psi}\n",
    "$$\n",
    "\n",
    "$$\n",
    "1 \\neq 1\\cdot4(1^3)_\\square\n",
    "$$\n"
   ]
  }
 ],
 "metadata": {
  "jupytext": {
   "formats": "ipynb,md:myst"
  },
  "kernelspec": {
   "display_name": "Python 3 (ipykernel)",
   "language": "python",
   "name": "python3"
  },
  "language_info": {
   "codemirror_mode": {
    "name": "ipython",
    "version": 3
   },
   "file_extension": ".py",
   "mimetype": "text/x-python",
   "name": "python",
   "nbconvert_exporter": "python",
   "pygments_lexer": "ipython3",
   "version": "3.9.7"
  }
 },
 "nbformat": 4,
 "nbformat_minor": 5
}
