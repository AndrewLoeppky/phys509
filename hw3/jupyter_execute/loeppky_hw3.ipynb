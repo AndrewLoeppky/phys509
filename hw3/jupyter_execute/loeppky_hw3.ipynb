{
 "cells": [
  {
   "cell_type": "markdown",
   "id": "8a0705c1",
   "metadata": {},
   "source": [
    "# Homework 3\n",
    "\n",
    "## Andrew Loeppky\n",
    "\n",
    "## P509, Fall '21"
   ]
  },
  {
   "cell_type": "code",
   "execution_count": 1,
   "id": "e800f7d8",
   "metadata": {},
   "outputs": [],
   "source": [
    "import pandas as pd\n",
    "import numpy as np\n",
    "from matplotlib import pyplot as plt\n",
    "\n",
    "import random"
   ]
  },
  {
   "cell_type": "markdown",
   "id": "c8555fae",
   "metadata": {},
   "source": [
    "### Question 1 \n",
    "\n",
    "Consider an (unnormalized) Cauchy distribution with mean a and width parameter $b$:\n",
    "\n",
    "$$\n",
    "f(x|a,b ) = \\left(1 + \\left(\\frac{x-a}{b}\\right)^2\\right)^{-1}\n",
    "$$\n",
    "\n",
    "In this problem you will use Monte Carlo simulation to explore ways of estimating the model parameters from a data sample drawn from this underlying distribution.\n",
    "\n",
    "**A.** Write a simulation that generates random numbers drawing from the above distribution. Briefly describe the method your routine uses. Show a plot of the output of your routine for 10000 simulated events, setting $a=0$ and $b=1$. Make the plot over the range -10 to 10, and superimpose a Cauchy distribution curve on top of the distribution to see if it agrees. (For the remainder of this problem you may take $a=0$ and $b=1$.)\n",
    "\n",
    "---"
   ]
  },
  {
   "cell_type": "markdown",
   "id": "67a71d8e",
   "metadata": {},
   "source": [
    "Invert the Cauchy distribution for $x$:\n",
    "\n",
    "$$\n",
    "x = b\\cdot\\sqrt{\\left(\\frac{1}{y}-1\\right)} + a \\rightarrow x = \\sqrt{\\left(\\frac{1}{y}-1\\right)}\n",
    "$$\n",
    "\n",
    "integrate to get the PDF:\n",
    "\n",
    "$$\n",
    "\\int dy \\sqrt{\\left(\\frac{1}{y}-1\\right)} = 2\\left(\\sqrt{\\frac{1}{y-1}}\\right)^{-1/2}\n",
    "$$"
   ]
  },
  {
   "cell_type": "code",
   "execution_count": 2,
   "id": "abe7c1cd",
   "metadata": {},
   "outputs": [
    {
     "ename": "NameError",
     "evalue": "name 'bound' is not defined",
     "output_type": "error",
     "traceback": [
      "\u001b[1;31m---------------------------------------------------------------------------\u001b[0m",
      "\u001b[1;31mNameError\u001b[0m                                 Traceback (most recent call last)",
      "\u001b[1;32m~\\AppData\\Local\\Temp/ipykernel_12644/2129961483.py\u001b[0m in \u001b[0;36m<module>\u001b[1;34m\u001b[0m\n\u001b[0;32m     17\u001b[0m \u001b[0mplt\u001b[0m\u001b[1;33m.\u001b[0m\u001b[0mhist\u001b[0m\u001b[1;33m(\u001b[0m\u001b[0mx\u001b[0m\u001b[1;33m,\u001b[0m \u001b[0mbins\u001b[0m\u001b[1;33m=\u001b[0m\u001b[1;36m10\u001b[0m\u001b[1;33m)\u001b[0m\u001b[1;33m\u001b[0m\u001b[1;33m\u001b[0m\u001b[0m\n\u001b[0;32m     18\u001b[0m \u001b[0mplt\u001b[0m\u001b[1;33m.\u001b[0m\u001b[0mplot\u001b[0m\u001b[1;33m(\u001b[0m\u001b[0mx_ext\u001b[0m\u001b[1;33m,\u001b[0m \u001b[0mfx\u001b[0m\u001b[1;33m,\u001b[0m \u001b[0mcolor\u001b[0m\u001b[1;33m=\u001b[0m\u001b[1;34m'k'\u001b[0m\u001b[1;33m)\u001b[0m\u001b[1;33m\u001b[0m\u001b[1;33m\u001b[0m\u001b[0m\n\u001b[1;32m---> 19\u001b[1;33m \u001b[0mplt\u001b[0m\u001b[1;33m.\u001b[0m\u001b[0mplot\u001b[0m\u001b[1;33m(\u001b[0m\u001b[0mx_ext\u001b[0m\u001b[1;33m,\u001b[0m \u001b[0mbound\u001b[0m\u001b[1;33m)\u001b[0m\u001b[1;33m\u001b[0m\u001b[1;33m\u001b[0m\u001b[0m\n\u001b[0m\u001b[0;32m     20\u001b[0m \u001b[1;31m#plt.ylim(0,2)\u001b[0m\u001b[1;33m\u001b[0m\u001b[1;33m\u001b[0m\u001b[1;33m\u001b[0m\u001b[0m\n",
      "\u001b[1;31mNameError\u001b[0m: name 'bound' is not defined"
     ]
    },
    {
     "data": {
      "image/png": "[encoded data removed]",
      "text/plain": [
       "<Figure size 432x288 with 1 Axes>"
      ]
     },
     "metadata": {
      "filenames": {
       "image/png": "C:\\Users\\Owner\\UBC_F2021\\phys509\\hw3\\jupyter_execute\\loeppky_hw3_4_1.png"
      },
      "needs_background": "light"
     },
     "output_type": "display_data"
    }
   ],
   "source": [
    "# calculate the exact soln\n",
    "xmin = -10\n",
    "xmax = 10\n",
    "\n",
    "\n",
    "x_ext = np.linspace(xmin,xmax, 1000)\n",
    "a = 0\n",
    "b = 1\n",
    "fx = (1 + ((x_ext - a) / b) ** 2) ** -1\n",
    "\n",
    "\n",
    "\n",
    "# simulate it (simple transform not working, try hybrid as in lec 5\n",
    "xrand = np.array([random.uniform(xmin,xmax) for i in range(10000)])\n",
    "x = b * (1 / abs(xrand) - 1)\n",
    "\n",
    "plt.hist(x, bins=10)\n",
    "plt.plot(x_ext, fx, color='k')\n",
    "plt.plot(x_ext, bound)\n",
    "#plt.ylim(0,2)"
   ]
  },
  {
   "cell_type": "code",
   "execution_count": null,
   "id": "3369cde9",
   "metadata": {},
   "outputs": [],
   "source": []
  },
  {
   "cell_type": "markdown",
   "id": "5b99b66e",
   "metadata": {},
   "source": [
    "**B.** An obvious estimator for the parameter $a$ is to calculate the mean of $N$ values. Suppose we draw 25 numbers from this distribution, and calculate their mean, which we'll denote by $x_{25}$. Simulate the distribution of $x_{25}$ for 10000 trials of this experiment, and plot the result."
   ]
  },
  {
   "cell_type": "code",
   "execution_count": null,
   "id": "ae08b192",
   "metadata": {},
   "outputs": [],
   "source": []
  },
  {
   "cell_type": "markdown",
   "id": "a66e55c3",
   "metadata": {},
   "source": [
    "**C.** Redo part B, but this time we'll estimate parameter a by averaging 100 samples. How does the width of the distribution for $x_{100}$ compare to that for $x_{25}$?"
   ]
  },
  {
   "cell_type": "code",
   "execution_count": null,
   "id": "a1a53abc",
   "metadata": {},
   "outputs": [],
   "source": []
  },
  {
   "cell_type": "markdown",
   "id": "e36c6061",
   "metadata": {},
   "source": [
    "**D.** Develop a better estimator of $a$ (i.e. develop some function or algorithm of the 100 data points that yields a distribution for your estimate of parameter a with a smaller variance than $x_{100}$ does). Describe your method and show the simulated distribution of your new estimator. Is the method unbiased? Is it consistent?"
   ]
  },
  {
   "cell_type": "code",
   "execution_count": null,
   "id": "91f6d7ee",
   "metadata": {},
   "outputs": [],
   "source": []
  },
  {
   "cell_type": "markdown",
   "id": "1156a8f5",
   "metadata": {},
   "source": [
    "**E.** Develop a useful estimator for $b$. Describe your method and show the simulated distribution of your new estimator. Is your estimator consistent? Is it unbiased? How efficient do you think it is?"
   ]
  },
  {
   "cell_type": "code",
   "execution_count": null,
   "id": "d8ab0777",
   "metadata": {},
   "outputs": [],
   "source": []
  },
  {
   "cell_type": "markdown",
   "id": "2307d18e",
   "metadata": {},
   "source": [
    "**F.** You should have seen in parts B and C that the distribution of the mean didn't get narrower when more points were averaged. Justify this analytically by deriving the probability distribution for the average of two Cauchy random variables."
   ]
  },
  {
   "cell_type": "code",
   "execution_count": null,
   "id": "d11b0c6c",
   "metadata": {},
   "outputs": [],
   "source": []
  },
  {
   "cell_type": "markdown",
   "id": "d9359192",
   "metadata": {},
   "source": [
    " <div class=\"page-break\"></div>"
   ]
  },
  {
   "cell_type": "markdown",
   "id": "09b0dc7f",
   "metadata": {},
   "source": [
    "### Question 2\n",
    "\n",
    "The standard “lambda CDM” cosmology states that the scale factor (“size”) for the universe is given by the expression:\n",
    "\n",
    "$$\n",
    "a(t) = \\left(\\Omega_m / \\Omega_\\Lambda\\right)^{\\frac{1}{3}} sinh^{\\frac{2}{3}}(t/t_\\Lambda)\n",
    "$$\n",
    "\n",
    "where\n",
    "\n",
    "$$\n",
    "t_\\Lambda \\equiv 2 / (3H_0\\sqrt{\\Omega_\\Lambda})\n",
    "$$\n",
    "\n",
    "\n",
    "If one sets $a(t)=1$ and solves for $t$, you get the current age of the universe. We are given the following measurements and constraints:\n",
    "\n",
    "$$\n",
    "H_0 = 67.27\\pm 0.60 \\text{ km/s per megaparsec}\n",
    "$$\n",
    "\n",
    "$$\n",
    "\\Omega_m = 0.3166 \\pm 0.0084\n",
    "$$\n",
    "\n",
    "$$\n",
    "\\Omega_m \\cdot(H_0)^3 = 96433 \\pm 290\n",
    "$$\n",
    "\n",
    "$$\n",
    "\\Omega_m + \\Omega_\\Lambda = 1 \\text{  (theoretical constraint)}\n",
    "$$\n",
    "\n",
    "Use these values to estimate the correlation between the uncertainties on $H_0$ and $\\Omega_m$, and then use the above formulas and the error propagation equation to calculate the age of the universe and the uncertainty on its age.\n",
    "\n",
    "---"
   ]
  },
  {
   "cell_type": "markdown",
   "id": "c5f6d9b6",
   "metadata": {},
   "source": [
    "$\\Omega_m$ and $\\Omega_\\Lambda$ are perfectly *anticorrelated*, as any measured value of $\\Omega_m$ completely determines the value of $\\Omega_\\Lambda$ (increasing $\\Omega_m$ means decreasing $\\Omega_\\Lambda$)."
   ]
  },
  {
   "cell_type": "code",
   "execution_count": null,
   "id": "ccd9cd27",
   "metadata": {},
   "outputs": [],
   "source": []
  },
  {
   "cell_type": "markdown",
   "id": "9da1c453",
   "metadata": {},
   "source": [
    " <div class=\"page-break\"></div>"
   ]
  },
  {
   "cell_type": "markdown",
   "id": "63dcd52e",
   "metadata": {},
   "source": [
    "## Question 3\n",
    "\n",
    "This is a parameter estimation problem from the world of cosmology.\n",
    "\n",
    "**A.** Some telescope measures the luminosity of a series of Type Ia supernova at various redshifts. The redshift $z$ is measured with negligible uncertainty. The distance $D$ to the supernova (in arbitrary units) depends on redshift according to:\n",
    "\n",
    "$$\n",
    "D = 1/H_0 \\cdot (z + 0.5\\cdot z^2\\cdot (1-q_0))\n",
    "$$\n",
    "\n",
    "Here, $H_0$ is Hubble's constant in appropriate units. The parameter $q_0$ describes the acceleration or deceleration of the universe's expansion, and depends on the densities of matter and dark energy in the universe according to:\n",
    "\n",
    "$$\n",
    "q0 = \\Omega_M/2 - \\Omega_\\Lambda\n",
    "$$\n",
    "\n",
    "Assume henceforth that $\\Omega_M + \\Omega\\Lambda = 1$. Also, all $\\Omega$ parameters must be non-negative, since they are energy densities.\n",
    "\n",
    "The apparent luminosity of the supernova is given by $L=L_0/D^2$, where $L_0$ is its intrinsic brightness. The astronomical magnitude of each supernova is given by:\n",
    "\n",
    "$$\n",
    "m = -2.5\\cdot log_{10}(L)\n",
    "$$\n",
    "\n",
    "From studies of nearby supernovae, the random scatter in the magnitude m of a Type Ia supernova is $\\pm$ 0.1, presumably due to some intrinsic random variation in the intrinsic brightness.\n",
    "\n",
    "Attached is a file giving the measured $z$ and $m$ values for 100 Type Ia supernovae. Determine the best-fit and \"1 sigma\" uncertainty for $\\Omega_\\Lambda$ from this data."
   ]
  },
  {
   "cell_type": "code",
   "execution_count": null,
   "id": "71c5bcb5",
   "metadata": {},
   "outputs": [],
   "source": [
    "zm_dat = pd.read_csv(\"data_hw3.txt\", sep=\"  \", engine='python')"
   ]
  },
  {
   "cell_type": "markdown",
   "id": "29af0c74",
   "metadata": {},
   "source": [
    "**B.** A possible systematic uncertainty in this measurement is the possibility that the intrinsic luminosity of supernovae may evolve systematically with redshift. Suppose therefore that:\n",
    "\n",
    "$$\n",
    "L_0(z) = L_0\\cdot (1+a\\cdot z)\n",
    "$$\n",
    "\n",
    "Theoretical models indicate that $a=0 \\pm 0.2$. Incorporating this as a new systematic to the calculation in Part A, calculate the total uncertainty on $\\Omega_\\Lambda$."
   ]
  },
  {
   "cell_type": "markdown",
   "id": "2ea0e047",
   "metadata": {},
   "source": [
    " <div class=\"page-break\"></div>"
   ]
  },
  {
   "cell_type": "markdown",
   "id": "5be08353",
   "metadata": {},
   "source": [
    "## Question 4\n",
    "\n",
    "Magnesium has three stable isotopes with atomic weights of 24, 25, and 26. You are given one mole of enriched magnesium. The block weighs 25.2 grams. You do not know the fractions of Mg-24, Mg-25, and Mg-26 in the block, only the total mass.\n",
    "\n",
    "**A.** Let $p_1, p_2$, and $p_3$ be the fractions of Mg-24, Mg-25, and Mg-26 atoms in your sample. Obviously $p_1+p_2+p_3=1$. You also have the constraint that the total mass is 25.2g. Use maximum entropy principles to derive the joint probability distribution $P(p_1,p_2)$ that has the largest entropy given the constraints. (Hint: assume that the measure function $m(x)=$ constant when calculating the entropy of this continuous distribution---see the formula for the entropy of a continuous probability distribution in Gregory's book. Also, think carefully about the allowed ranges for each variable. The PDF won't depend upon $p_3$ because $p_1+p_2+p_3=1$ determines $p_3$.)"
   ]
  },
  {
   "cell_type": "code",
   "execution_count": null,
   "id": "f9eec65c",
   "metadata": {},
   "outputs": [],
   "source": []
  },
  {
   "cell_type": "markdown",
   "id": "c3674ab8",
   "metadata": {},
   "source": [
    "**B.** In a mass spectrometer we measure the weights of 20 atoms from the sample. We get these numbers:\n",
    "\n",
    "Mg-24: 12\n",
    "\n",
    "Mg-25: 3\n",
    "\n",
    "Mg-26: 5\n",
    "\n",
    "Using your maximum entropy PDF from part A as your prior, derive the posterior PDF for the parameter $p_1$, given this data (marginalizing over other parameters)."
   ]
  },
  {
   "cell_type": "code",
   "execution_count": null,
   "id": "34ae3fb0",
   "metadata": {},
   "outputs": [],
   "source": []
  },
  {
   "cell_type": "markdown",
   "id": "2c84f24f",
   "metadata": {},
   "source": [
    "**C.** If the data were instead\n",
    "\n",
    "Mg-24: 12\n",
    "\n",
    "Mg-25: 7\n",
    "\n",
    "Mg-26: 1\n",
    "\n",
    "What do you get the posterior distribution for $p_1$? Interpret your answer---that is, if you get the same result as in B, argue why this makes sense. If you get a different result, explain why the differing amounts of Mg-25 and Mg-26 in your data sample change your inference about Mg-24."
   ]
  },
  {
   "cell_type": "code",
   "execution_count": null,
   "id": "e317f82c",
   "metadata": {},
   "outputs": [],
   "source": []
  },
  {
   "cell_type": "markdown",
   "id": "6e5ea85c",
   "metadata": {},
   "source": [
    " <div class=\"page-break\"></div>"
   ]
  },
  {
   "cell_type": "markdown",
   "id": "329ef02b",
   "metadata": {},
   "source": [
    "### Question 5\n",
    "\n",
    "A Jeffreys' prior is a method for assigning a non-informative prior that is designed to be invariant under choice of parametrization. Jeffreys proposed the following prior:\n",
    "\n",
    "$$\n",
    "g(\\Theta) \\propto \\sqrt{I(\\Theta)}\n",
    "$$\n",
    "\n",
    "where $I(\\Theta)$ is the Fisher information, which is related to the likelihood function $L(x|\\Theta)$ by:\n",
    "\n",
    "$$\n",
    "I(\\Theta) = \\langle\\left[\\frac{\\partial }{\\partial\\Theta}lnL(x|\\Theta)\\right]^2\\rangle\n",
    "$$\n",
    "\n",
    "Here the angle brackets mean to take the average over outcomes, with $\\Theta$ taken to be fixed inside the integral:\n",
    "\n",
    "$$\n",
    "I(\\Theta) = \\int dx \\cdot lnL(x|\\Theta)\\left[\\frac{\\partial }{\\partial\\Theta}lnL(x|\\Theta)\\right]^2\n",
    "$$\n",
    "\n",
    "**A.** Consider a measurement in which we flip a single coin once, and want to estimate the probability $p$ for the coin coming up heads. Derive the Jeffreys prior $g(p)$ in this case."
   ]
  },
  {
   "cell_type": "code",
   "execution_count": null,
   "id": "66cdc985",
   "metadata": {},
   "outputs": [],
   "source": []
  },
  {
   "cell_type": "markdown",
   "id": "b7ede9f3",
   "metadata": {},
   "source": [
    "**B.** Suppose that you start with this prior, then flip the coin three times, yielding three heads. What is the probability that $p<0.5$?"
   ]
  },
  {
   "cell_type": "markdown",
   "id": "cc629723",
   "metadata": {},
   "source": [
    "**C.** Suppose that some model relates $p$ to another parameter $\\psi$ according to $p=\\psi^4$. Derive the Jeffreys prior for $\\psi$, starting with the likelihood for a single coin flip expressed as a function of $\\psi$."
   ]
  },
  {
   "cell_type": "markdown",
   "id": "d7b46cfa",
   "metadata": {},
   "source": [
    "**D.** Demonstrate explicitly that if you take the Jeffreys prior for $\\psi$ from Part C and do a change of variables to $p$, you get back the Jeffreys prior for $p$ that you found in part A. This will confirm that Jeffreys' procedure for generating priors encodes the same information for both of these parametrizations."
   ]
  },
  {
   "cell_type": "code",
   "execution_count": null,
   "id": "7dd30c10",
   "metadata": {},
   "outputs": [],
   "source": []
  },
  {
   "cell_type": "markdown",
   "id": "8966ea92",
   "metadata": {},
   "source": [
    "**E.** Finally, show that if you started with a uniform prior for $p$ and a uniform prior for $\\psi$, then these priors are actually different after converting from one parametrization to another with a change of variables. Thus a uniform prior is not a Jeffreys prior for this problem."
   ]
  },
  {
   "cell_type": "code",
   "execution_count": null,
   "id": "4e5d00be",
   "metadata": {},
   "outputs": [],
   "source": []
  }
 ],
 "metadata": {
  "jupytext": {
   "formats": "ipynb,md:myst",
   "text_representation": {
    "extension": ".md",
    "format_name": "myst",
    "format_version": 0.13,
    "jupytext_version": "1.11.5"
   }
  },
  "kernelspec": {
   "display_name": "Python 3 (ipykernel)",
   "language": "python",
   "name": "python3"
  },
  "language_info": {
   "codemirror_mode": {
    "name": "ipython",
    "version": 3
   },
   "file_extension": ".py",
   "mimetype": "text/x-python",
   "name": "python",
   "nbconvert_exporter": "python",
   "pygments_lexer": "ipython3",
   "version": "3.8.12"
  },
  "source_map": [
   13,
   21,
   27,
   43,
   57,
   80,
   82,
   86,
   88,
   92,
   94,
   98,
   100,
   104,
   106,
   110,
   112,
   116,
   155,
   159,
   161,
   165,
   195,
   197,
   207,
   211,
   219,
   221,
   233,
   235,
   247,
   249,
   253,
   277,
   279,
   283,
   287,
   291,
   293,
   297
  ]
 },
 "nbformat": 4,
 "nbformat_minor": 5
}