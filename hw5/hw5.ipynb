{
 "cells": [
  {
   "cell_type": "markdown",
   "id": "b33e9333",
   "metadata": {},
   "source": [
    "# HW 5\n",
    "\n",
    "## Andrew Loeppky\n",
    "\n",
    "## PHYS 509"
   ]
  },
  {
   "cell_type": "markdown",
   "id": "f739a0b9",
   "metadata": {},
   "source": [
    "## Question 1\n",
    "\n",
    "If a light object with mass m is placed on a scale with “fat tails”, the reading on the scale follows a Student's t-distribution with 3 degrees of freedom centered at $m$ with a standard deviation of 1 mg.\n",
    "\n",
    "**A.** Write down the likelihood function for obtaining a reading of $x$ milligrams on this scale.\n",
    "\n",
    "---"
   ]
  },
  {
   "cell_type": "code",
   "execution_count": null,
   "id": "d489196a",
   "metadata": {},
   "outputs": [],
   "source": []
  },
  {
   "cell_type": "markdown",
   "id": "4676bfd9",
   "metadata": {},
   "source": [
    "**B.** You use this scale to measure an object and obtain a reading of 0.5 mg. Assuming a flat prior on $m$, calculate a Bayesian 90% upper limit on the object's mass.\n",
    "\n",
    "---"
   ]
  },
  {
   "cell_type": "code",
   "execution_count": null,
   "id": "6c4bdb67",
   "metadata": {},
   "outputs": [],
   "source": []
  },
  {
   "cell_type": "markdown",
   "id": "199358fa",
   "metadata": {},
   "source": [
    "**C.** Now calculate the Feldman-Cousins 90% confidence interval on $m$ for a reading of 0.5 mg.\n",
    "\n",
    "---"
   ]
  },
  {
   "cell_type": "markdown",
   "id": "2ecc4368",
   "metadata": {},
   "source": [
    "## Question 2\n",
    "\n",
    "An experiment measures a total of 0 events in one hour, during which 5 background events were expected. Assume that both signal and background events obey Poisson statistics, and that we know the expected background rate exactly.\n",
    "\n",
    "**A.** Let $S$ denote the expected number of signal events per hour. What is the Feldman-Cousins 90% upper limit on $S$?\n",
    "\n",
    "---"
   ]
  },
  {
   "cell_type": "code",
   "execution_count": null,
   "id": "96fcc992",
   "metadata": {},
   "outputs": [],
   "source": []
  },
  {
   "cell_type": "markdown",
   "id": "e1dd2906",
   "metadata": {},
   "source": [
    "**B.** Calculate the Bayesian 90% upper limit on the expected number of signal events per hour, assuming that the rate $B$ of 5 background events per hour is known perfectly. Assume a uniform prior for S. Plot the probability distribution for $S$. Comment on the dependence of your result on the value of $B$.\n",
    "\n",
    "---"
   ]
  },
  {
   "cell_type": "code",
   "execution_count": null,
   "id": "d3005181",
   "metadata": {},
   "outputs": [],
   "source": []
  },
  {
   "cell_type": "markdown",
   "id": "a1fd13d1",
   "metadata": {},
   "source": [
    "**C.** Consider a different experiment in which we know nothing about the background rate $B$ but must measure it ourselves. We do this by removing the signal source for a while to measure the background rate $B$ alone. In one hour we detect 1 background event. We then put the signal source back, and measure 2 events in an hour (combined total of signal+background). Assuming uniform priors for $B$ and $S$, calculate the probability distribution $P(S)$ using Bayes' theorem. What is the probability that $S$ is less than 1/hour?\n",
    "\n",
    "---"
   ]
  },
  {
   "cell_type": "code",
   "execution_count": null,
   "id": "885516a7",
   "metadata": {},
   "outputs": [],
   "source": []
  },
  {
   "cell_type": "markdown",
   "id": "aa3c16ee",
   "metadata": {},
   "source": [
    "## Question 3\n",
    "\n",
    "In this problem you will use the delta($\\chi^2$) method to form a test statistic to discriminate between two types of events (let’s call them type $A$ and type $B$). See Lecture 17, slide 20 for the definition of this test statistic. You are given two large training sets of type $A$ events and type $B$ events. For each event two quantities have been measured: $x$ (first column in the file) and $y$ (second column), and there are 10,000 events in each training set. Use these training sets to define a delta($\\chi^2$) statistic analogous to what is shown on the slide referred to above. You are also given two testing sets of type $A$ and type $B$ events. Apply your delta($\\chi^2$) statistic to each testing set and plot the distributions of the test statistic for each type of events on the same plot. For a given event with $x=2.5$, $y=-0.5$, what fraction of type $A$ events have a higher value of this test statistic? What fraction of type $B$ events have a higher value? Given your results, can you calculate the probability that this particular event is of type $A$?\n",
    "\n",
    "---"
   ]
  },
  {
   "cell_type": "code",
   "execution_count": null,
   "id": "2b66362a",
   "metadata": {},
   "outputs": [],
   "source": []
  }
 ],
 "metadata": {
  "kernelspec": {
   "display_name": "Python 3 (ipykernel)",
   "language": "python",
   "name": "python3"
  },
  "language_info": {
   "codemirror_mode": {
    "name": "ipython",
    "version": 3
   },
   "file_extension": ".py",
   "mimetype": "text/x-python",
   "name": "python",
   "nbconvert_exporter": "python",
   "pygments_lexer": "ipython3",
   "version": "3.9.7"
  }
 },
 "nbformat": 4,
 "nbformat_minor": 5
}
