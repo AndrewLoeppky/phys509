{
 "cells": [
  {
   "cell_type": "markdown",
   "id": "b33e9333",
   "metadata": {},
   "source": [
    "# HW 5\n",
    "\n",
    "## Andrew Loeppky\n",
    "\n",
    "## PHYS 509"
   ]
  },
  {
   "cell_type": "code",
   "execution_count": 1,
   "id": "6e7bcdfa",
   "metadata": {},
   "outputs": [],
   "source": [
    "import numpy as np\n",
    "import matplotlib.pyplot as plt\n",
    "\n",
    "from scipy.special import gamma\n",
    "from scipy.special import factorial as fac"
   ]
  },
  {
   "cell_type": "markdown",
   "id": "f739a0b9",
   "metadata": {},
   "source": [
    "## Question 1\n",
    "\n",
    "If a light object with mass m is placed on a scale with “fat tails”, the reading on the scale follows a Student's t-distribution with 3 degrees of freedom centered at $m$ with a standard deviation of 1 mg.\n",
    "\n",
    "**A.** Write down the likelihood function for obtaining a reading of $x$ milligrams on this scale.\n",
    "\n",
    "---"
   ]
  },
  {
   "cell_type": "markdown",
   "id": "260dc483",
   "metadata": {},
   "source": [
    "A non-standardized Student's $t$ distribution is of the form:\n",
    "\n",
    "$$\n",
    "f(x|N, \\hat{\\sigma}) = \\frac{\\Gamma((N+1)/2)}{\\sqrt{N\\pi\\hat{\\sigma}^2}\\Gamma(N/2)} \\cdot \\left(1 + \\frac{(x-m)^2}{N\\sigma^2}\\right)^{-\\frac{N+1}{2}}\\tag{Wikipedia}\n",
    "$$\n",
    "\n",
    "The variance (also the SD for a single measurement) of a students $t$ distribution with $N>2$ is given by:\n",
    "\n",
    "$$\n",
    "stdev = \\hat{\\sigma}^2\\frac{N}{N-2}\n",
    "$$\n",
    "\n",
    "solve for $\\hat{\\sigma}^2$ such that the standard deviation is 1 mg:\n",
    "\n",
    "$$\n",
    "\\hat{\\sigma}^2 = \\frac{N-2}{N}\n",
    "$$\n",
    "\n",
    "Set $N = 3$ and $\\hat{\\sigma}^2 = 1/3$. Write out the likelihood\n",
    "\n"
   ]
  },
  {
   "cell_type": "markdown",
   "id": "e2c0ffd8",
   "metadata": {},
   "source": [
    "$$\n",
    "\\boxed{L(x) = \\frac{\\Gamma(2)}{\\sqrt{\\pi}\\Gamma(3/2)} \\cdot \\left(1 + 3(x-m)^2{}\\right)^{-2}}\n",
    "$$"
   ]
  },
  {
   "cell_type": "markdown",
   "id": "4676bfd9",
   "metadata": {},
   "source": [
    "**B.** You use this scale to measure an object and obtain a reading of 0.5 mg. Assuming a flat prior on $m$, calculate a Bayesian 90% upper limit on the object's mass.\n",
    "\n",
    "---"
   ]
  },
  {
   "cell_type": "markdown",
   "id": "acb5c7ba",
   "metadata": {},
   "source": [
    "Flat prior that excludes negative mass:\n",
    "\n",
    "$$\n",
    "P(m|I) = \\begin{cases} \n",
    "0\n",
    "    &  m < 0 \\\\\n",
    "&\\\\  % blank row\n",
    "const\n",
    "    & m > 0\n",
    "\\end{cases}\n",
    "$$\n",
    "\n",
    "With a flat prior:\n",
    "\n",
    "$$\n",
    "P(m|x,I) \\propto P(x|m,I)\n",
    "$$"
   ]
  },
  {
   "cell_type": "code",
   "execution_count": 2,
   "id": "f4493163",
   "metadata": {},
   "outputs": [
    {
     "data": {
      "image/png": "[encoded data removed]",
      "text/plain": [
       "<Figure size 432x288 with 1 Axes>"
      ]
     },
     "metadata": {
      "needs_background": "light"
     },
     "output_type": "display_data"
    }
   ],
   "source": [
    "# specify parameters\n",
    "m = 0.5\n",
    "x = np.linspace(m-1, m+10, 1000)\n",
    "N = 3\n",
    "\n",
    "# set up the distribution\n",
    "def student_t_dist(x, N, m=0):\n",
    "    \"\"\"\n",
    "    outputs a stdents t distribution with N degrees of freedom,\n",
    "    expected value m, and measured value x\n",
    "    \"\"\"\n",
    "    sighat2 = (N - 2) / N\n",
    "\n",
    "    fx = (\n",
    "        gamma((N + 1) / 2)\n",
    "        / (np.sqrt(N * np.pi * sighat2) * gamma(N / 2))\n",
    "        * ((1 + ((x - m) ** 2 / (N * sighat2)))) ** (-(N + 1) / 2)\n",
    "    )\n",
    "    return fx\n",
    "\n",
    "# get the likelihood with m=0.5\n",
    "fx = student_t_dist(x, N, 0.5)\n",
    "\n",
    "# apply prior\n",
    "fx[x < 0] *= 0\n",
    "\n",
    "# what is 90% of the area under likelihood fcn?\n",
    "upperlim = np.sum(fx) * 0.9\n",
    "integral = 0\n",
    "j = 0 \n",
    "# integrate until we get to 90% \n",
    "while integral < upperlim:\n",
    "    integral += fx[j]\n",
    "    j += 1\n",
    "\n",
    "# plot it\n",
    "plt.plot(x, fx, \"k\")\n",
    "plt.title(\"Baysian Upper Limit\")\n",
    "plt.fill_between(x[0:j], 0, fx[0:j], alpha=0.5)\n",
    "plt.annotate(f\"90% upper limit = {round(x[j],3)} mg\", (1.1*x[j],fx[j]))\n",
    "plt.yticks([]);"
   ]
  },
  {
   "cell_type": "markdown",
   "id": "199358fa",
   "metadata": {},
   "source": [
    "**C.** Now calculate the Feldman-Cousins 90% confidence interval on $m$ for a reading of 0.5 mg.\n",
    "\n",
    "---"
   ]
  },
  {
   "cell_type": "markdown",
   "id": "92e626c2",
   "metadata": {},
   "source": [
    "Feldman-Cousins ordering principle:\n",
    "\n",
    "$$\n",
    "R = \\frac{P(m|\\mu)}{P(m|\\mu_{best})}\n",
    "$$\n",
    "\n",
    "Re-order the likelihood function from highest to lowest (Im doing it numerically), and add up the values until we reach 90%"
   ]
  },
  {
   "cell_type": "code",
   "execution_count": 17,
   "id": "e31e73f5",
   "metadata": {},
   "outputs": [],
   "source": [
    "x = np.linspace(0, 100, 10000)\n",
    "N = 3\n",
    "fx = student_t_dist(x, N, 0.5)\n",
    "\n",
    "mu_best = np.argmax(fx) # get the position of the maximum likelihood m\n",
    "p_mu_best = fx[mu_best] # denominator of R\n",
    "R = fx / p_mu_best # get R value for each m\n",
    "\n",
    "fx_sorted = np.sort(fx)[::-1] # sort fx\n",
    "\n",
    "# integrate to 90%\n",
    "upperlim = np.sum(fx_sorted) * 0.9\n",
    "integral = 0\n",
    "j = 0 \n",
    "# integrate until we get to 90% \n",
    "while integral < upperlim:\n",
    "    integral += fx_sorted[j]\n",
    "    j += 1\n"
   ]
  },
  {
   "cell_type": "code",
   "execution_count": 18,
   "id": "e9f81015",
   "metadata": {},
   "outputs": [
    {
     "data": {
      "image/png": "[encoded data removed]",
      "text/plain": [
       "<Figure size 432x288 with 1 Axes>"
      ]
     },
     "metadata": {
      "needs_background": "light"
     },
     "output_type": "display_data"
    }
   ],
   "source": [
    "# plot it\n",
    "plt.plot(x[:1000], fx_sorted[:1000], \"k\")\n",
    "plt.title(\"Feldman-Cousins Upper Limit\")\n",
    "plt.fill_between(x[0:j], 0, fx_sorted[0:j], color=\"green\", alpha=0.5)\n",
    "plt.annotate(f\"90% upper limit = {round(x[j],3)} mg\", (1.1*x[j],fx_sorted[j]))\n",
    "plt.yticks([]);"
   ]
  },
  {
   "cell_type": "markdown",
   "id": "2ecc4368",
   "metadata": {},
   "source": [
    "## Question 2\n",
    "\n",
    "An experiment measures a total of 0 events in one hour, during which 5 background events were expected. Assume that both signal and background events obey Poisson statistics, and that we know the expected background rate exactly.\n",
    "\n",
    "**A.** Let $s$ denote the expected number of signal events per hour. What is the Feldman-Cousins 90% upper limit on $s$?\n",
    "\n",
    "---"
   ]
  },
  {
   "cell_type": "markdown",
   "id": "0d25a48e",
   "metadata": {},
   "source": [
    "From Feldman-Cousins paper, table IV, we read that the 90% confidence upper limit is $\\boxed{0.98}$\n",
    "\n"
   ]
  },
  {
   "cell_type": "markdown",
   "id": "e1dd2906",
   "metadata": {},
   "source": [
    "**B.** Calculate the Bayesian 90% upper limit on the expected number of signal events per hour, assuming that the rate $B$ of 5 background events per hour is known perfectly. Assume a uniform prior for S. Plot the probability distribution for $S$. Comment on the dependence of your result on the value of $B$.\n",
    "\n",
    "---"
   ]
  },
  {
   "cell_type": "markdown",
   "id": "b742218a",
   "metadata": {},
   "source": [
    "With a flat prior, the posterior is proportional to the likelihood:\n",
    "\n",
    "$$\n",
    "P(s|x,b,I) \\propto P(x|s,b,I)\n",
    "$$\n",
    "\n",
    "Measured events are poisson with a frequency $s+b$ and a measured count $x$\n",
    "\n",
    "$$\n",
    "P(x|s,b,I) = \\frac{e^{-(s + b)} (s + b)^x}{x!}\n",
    "$$"
   ]
  },
  {
   "cell_type": "code",
   "execution_count": 11,
   "id": "e90fbd82",
   "metadata": {},
   "outputs": [
    {
     "data": {
      "image/png": "[encoded data removed]",
      "text/plain": [
       "<Figure size 432x288 with 1 Axes>"
      ]
     },
     "metadata": {
      "needs_background": "light"
     },
     "output_type": "display_data"
    }
   ],
   "source": [
    "res = 0.0001  # numerical resolution\n",
    "s = np.arange(0,10, res)  # true event freq (/h)\n",
    "b = 5  # background freq (/h)\n",
    "x = 0  # measured real event freq (/h)\n",
    "\n",
    "# calculate the likelihood (dont bother normalizing)\n",
    "ps = np.exp(-(s + b)) * (s + b) ** x / fac(s)\n",
    "\n",
    "# what is 90% of the area under likelihood fcn?\n",
    "upperlim = np.sum(ps) * 0.9\n",
    "integral = 0\n",
    "j = 0 \n",
    "# integrate until we get to 90% \n",
    "while integral < upperlim:\n",
    "    integral += ps[j]\n",
    "    j += 1\n",
    "\n",
    "# plot it\n",
    "plt.plot(s, ps, color=\"k\")\n",
    "plt.fill_between(s[0:j], 0, ps[0:j], color=\"red\", alpha=0.5)\n",
    "plt.annotate(f\"90% upper limit = {s[j]} events/h\", (1.1*s[j],ps[j]))\n",
    "plt.xlabel(\"Event Frequency ($h^{-1}$)\")\n",
    "plt.yticks([]);"
   ]
  },
  {
   "cell_type": "markdown",
   "id": "29713fd8",
   "metadata": {},
   "source": [
    "**Comment on the dependence of your result on the value of $b$**\n",
    "\n",
    "Do a mini-parameter sweep experiment:"
   ]
  },
  {
   "cell_type": "code",
   "execution_count": 6,
   "id": "f205ebe6",
   "metadata": {},
   "outputs": [
    {
     "data": {
      "image/png": "[encoded data removed]",
      "text/plain": [
       "<Figure size 432x288 with 1 Axes>"
      ]
     },
     "metadata": {
      "needs_background": "light"
     },
     "output_type": "display_data"
    }
   ],
   "source": [
    "fig, ax = plt.subplots()\n",
    "for b in range(6): \n",
    "\n",
    "    ps = np.exp(-(s + b)) * (s + b) ** x / fac(s)\n",
    "    upperlim = np.sum(ps) * 0.9\n",
    "    integral = 0\n",
    "    j = 0 \n",
    "    # integrate until we get to 90% \n",
    "    while integral < upperlim:\n",
    "        integral += ps[j]\n",
    "        j += 1\n",
    "    \n",
    "    ax.scatter(b, integral, label=f\"{b=}\")\n",
    "    ax.legend()\n",
    "    ax.set_yticks([])\n",
    "    ax.set_xlabel(\"b\")\n",
    "    ax.set_ylabel(\"Relative 90% limit (unnormalized)\")"
   ]
  },
  {
   "cell_type": "markdown",
   "id": "61658037",
   "metadata": {},
   "source": [
    "*Smaller values of $b$ make for higher upper limits on the possible number of real events. This makes sense because with less background noise, we are more certain that detected events are true events, and not just a fluke spike in the background. On the other hand, real detected events have no dependence on the background or any other attribute of our sensor. The Baysesian treatment reflects our state of knowledge (is it a real event or noise), rather than the state of reality.*"
   ]
  },
  {
   "cell_type": "markdown",
   "id": "a1fd13d1",
   "metadata": {},
   "source": [
    "**C.** Consider a different experiment in which we know nothing about the background rate $b$ but must measure it ourselves. We do this by removing the signal source for a while to measure the background rate $b$ alone. In one hour we detect 1 background event. We then put the signal source back, and measure 2 events in an hour (combined total of signal+background). Assuming uniform priors for $b$ and $s$, calculate the probability distribution $P(s)$ using Bayes' theorem. What is the probability that $s$ is less than 1/hour?\n",
    "\n",
    "---"
   ]
  },
  {
   "cell_type": "markdown",
   "id": "f5870e2c",
   "metadata": {},
   "source": [
    "Background events are poisson with an expected value of b:\n",
    "\n",
    "\n",
    "$$\n",
    "P(b) = \\frac{e^{-b} b^x}{x!}\n",
    "$$\n",
    "\n",
    "which is already normalized. Plug $b\\cdot P(b)$ into $P(x|s,b,I)$ from above and marginalize over $b$ to get the likelihood:\n",
    "\n",
    "$$\n",
    "P(x|s,b,I) = \\frac{\\sum_0^\\infty e^{-(s + bP(b))} (s + bP(b))^x\\cdot db}{x!}\n",
    "$$"
   ]
  },
  {
   "cell_type": "code",
   "execution_count": 7,
   "id": "bb4acb90",
   "metadata": {},
   "outputs": [
    {
     "data": {
      "text/plain": [
       "0.9991484782705347"
      ]
     },
     "execution_count": 7,
     "metadata": {},
     "output_type": "execute_result"
    }
   ],
   "source": [
    "# calculate P(b)\n",
    "b = np.linspace(0,1000, 1000) # for our purposes 1000 ~= infinity\n",
    "b_meas = 1.\n",
    "pb = np.exp(-b_meas) * b_meas ** b / fac(b)\n",
    "sum(pb) # sanity check"
   ]
  },
  {
   "cell_type": "code",
   "execution_count": 8,
   "id": "b2af531b",
   "metadata": {},
   "outputs": [
    {
     "data": {
      "text/plain": [
       "1.0000000000000182"
      ]
     },
     "execution_count": 8,
     "metadata": {},
     "output_type": "execute_result"
    }
   ],
   "source": [
    "res = 0.0001  # numerical resolution\n",
    "s = np.arange(0,10, res)  # true event freq (/h)\n",
    "x = 1  # measured real event freq (/h)\n",
    "\n",
    "# calculate the likelihood, marginalizing over b\n",
    "ps = [np.sum(np.exp(-(si + b*pb)) * (si + b*pb) ** x / fac(si)) for si in s]\n",
    "\n",
    "# normalize (equiv to dividing by global)\n",
    "ps /= sum(ps) * res\n",
    "\n",
    "# sanity check #2\n",
    "sum(ps) * res"
   ]
  },
  {
   "cell_type": "code",
   "execution_count": 9,
   "id": "9ca58392",
   "metadata": {},
   "outputs": [
    {
     "data": {
      "text/plain": [
       "0.4643541789985852"
      ]
     },
     "execution_count": 9,
     "metadata": {},
     "output_type": "execute_result"
    }
   ],
   "source": [
    "#######################################################\n",
    "# What is the probability that s is less than 1/hour? #\n",
    "#######################################################\n",
    "sum(ps[s < 1]) * res"
   ]
  },
  {
   "cell_type": "code",
   "execution_count": 10,
   "id": "944c8b9e",
   "metadata": {},
   "outputs": [
    {
     "data": {
      "image/png": "[encoded data removed]",
      "text/plain": [
       "<Figure size 432x288 with 1 Axes>"
      ]
     },
     "metadata": {
      "needs_background": "light"
     },
     "output_type": "display_data"
    }
   ],
   "source": [
    "# show the distn\n",
    "plt.plot(s, ps, \"k\")\n",
    "plt.xlabel(\"Event Frequency s ($h^{-1}$)\")\n",
    "plt.ylabel(\"P(s)\");"
   ]
  },
  {
   "cell_type": "markdown",
   "id": "aa3c16ee",
   "metadata": {},
   "source": [
    "## Question 3\n",
    "\n",
    "In this problem you will use the delta($\\chi^2$) method to form a test statistic to discriminate between two types of events (let’s call them type $A$ and type $B$). See Lecture 17, slide 20 for the definition of this test statistic. You are given two large training sets of type $A$ events and type $B$ events. For each event two quantities have been measured: $x$ (first column in the file) and $y$ (second column), and there are 10,000 events in each training set. Use these training sets to define a delta($\\chi^2$) statistic analogous to what is shown on the slide referred to above. You are also given two testing sets of type $A$ and type $B$ events. Apply your delta($\\chi^2$) statistic to each testing set and plot the distributions of the test statistic for each type of events on the same plot. For a given event with $x=2.5$, $y=-0.5$, what fraction of type $A$ events have a higher value of this test statistic? What fraction of type $B$ events have a higher value? Given your results, can you calculate the probability that this particular event is of type $A$?\n",
    "\n",
    "---"
   ]
  },
  {
   "cell_type": "code",
   "execution_count": null,
   "id": "2b66362a",
   "metadata": {},
   "outputs": [],
   "source": []
  }
 ],
 "metadata": {
  "kernelspec": {
   "display_name": "Python 3 (ipykernel)",
   "language": "python",
   "name": "python3"
  },
  "language_info": {
   "codemirror_mode": {
    "name": "ipython",
    "version": 3
   },
   "file_extension": ".py",
   "mimetype": "text/x-python",
   "name": "python",
   "nbconvert_exporter": "python",
   "pygments_lexer": "ipython3",
   "version": "3.9.7"
  }
 },
 "nbformat": 4,
 "nbformat_minor": 5
}
